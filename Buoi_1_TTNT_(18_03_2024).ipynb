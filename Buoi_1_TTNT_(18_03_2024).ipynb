{
  "nbformat": 4,
  "nbformat_minor": 0,
  "metadata": {
    "colab": {
      "provenance": [],
      "toc_visible": true,
      "authorship_tag": "ABX9TyOjiUV0Sskbryu15DAZJeUz",
      "include_colab_link": true
    },
    "kernelspec": {
      "name": "python3",
      "display_name": "Python 3"
    },
    "language_info": {
      "name": "python"
    }
  },
  "cells": [
    {
      "cell_type": "markdown",
      "metadata": {
        "id": "view-in-github",
        "colab_type": "text"
      },
      "source": [
        "<a href=\"https://colab.research.google.com/github/datuvwxyz/Artificial-Intelligence/blob/main/Buoi_1_TTNT_(18_03_2024).ipynb\" target=\"_parent\"><img src=\"https://colab.research.google.com/assets/colab-badge.svg\" alt=\"Open In Colab\"/></a>"
      ]
    },
    {
      "cell_type": "markdown",
      "source": [
        "# **TRÍ TUỆ NHÂN TẠO BUỔI 1 (18/03/2024)**"
      ],
      "metadata": {
        "id": "GX2RNiSIbk7-"
      }
    },
    {
      "cell_type": "code",
      "source": [
        "lst = [1, 3, \"abc\", [\"GN\", 1]]\n",
        "\n",
        "print(lst[1])\n",
        "print(len(lst))\n",
        "\n",
        "lst[1] = \"Tri tue nhan tao\"\n",
        "\n",
        "#print(lst[1])"
      ],
      "metadata": {
        "colab": {
          "base_uri": "https://localhost:8080/"
        },
        "id": "wynPKtoXEwPa",
        "outputId": "bf87d716-dc6e-4a61-b363-c31bc3bc8f17"
      },
      "execution_count": null,
      "outputs": [
        {
          "output_type": "stream",
          "name": "stdout",
          "text": [
            "4\n",
            "Tri tue nhan tao\n"
          ]
        }
      ]
    },
    {
      "cell_type": "code",
      "source": [
        "tpl = (1, 3, \"abc\", [4, 1, 6], (\"GN\", 70, 80))\n",
        "\n",
        "print(tpl[1])\n",
        "\n",
        "#Loi do tuple khong the thay doi gia tri\n",
        "tpl[1] = \"Nuoc mat ca sau\""
      ],
      "metadata": {
        "colab": {
          "base_uri": "https://localhost:8080/",
          "height": 211
        },
        "id": "blXmJCjrFkVL",
        "outputId": "8fdb34b9-1921-4c2f-d9df-1c5aa5e5af9c"
      },
      "execution_count": null,
      "outputs": [
        {
          "output_type": "error",
          "ename": "TypeError",
          "evalue": "'tuple' object does not support item assignment",
          "traceback": [
            "\u001b[0;31m---------------------------------------------------------------------------\u001b[0m",
            "\u001b[0;31mTypeError\u001b[0m                                 Traceback (most recent call last)",
            "\u001b[0;32m<ipython-input-9-9b1d3f23b7be>\u001b[0m in \u001b[0;36m<cell line: 4>\u001b[0;34m()\u001b[0m\n\u001b[1;32m      2\u001b[0m \u001b[0;34m\u001b[0m\u001b[0m\n\u001b[1;32m      3\u001b[0m \u001b[0;34m\u001b[0m\u001b[0m\n\u001b[0;32m----> 4\u001b[0;31m \u001b[0mtpl\u001b[0m\u001b[0;34m[\u001b[0m\u001b[0;36m1\u001b[0m\u001b[0;34m]\u001b[0m \u001b[0;34m=\u001b[0m \u001b[0;34m\"Nuoc mat ca sau\"\u001b[0m\u001b[0;34m\u001b[0m\u001b[0;34m\u001b[0m\u001b[0m\n\u001b[0m\u001b[1;32m      5\u001b[0m \u001b[0;34m\u001b[0m\u001b[0m\n\u001b[1;32m      6\u001b[0m \u001b[0;34m\u001b[0m\u001b[0m\n",
            "\u001b[0;31mTypeError\u001b[0m: 'tuple' object does not support item assignment"
          ]
        }
      ]
    },
    {
      "cell_type": "code",
      "source": [
        "set = {\"Nhut\", \"Phu\", \"Trung\", 2003}\n",
        "print(set)\n",
        "\n",
        "for x in set:\n",
        "  print(x)"
      ],
      "metadata": {
        "colab": {
          "base_uri": "https://localhost:8080/"
        },
        "id": "Tu-MoeCfGYc6",
        "outputId": "ba03cdbc-c12a-4795-8a87-e271887a822e"
      },
      "execution_count": null,
      "outputs": [
        {
          "output_type": "stream",
          "name": "stdout",
          "text": [
            "{2003, 2004, 'Nhut', 'Phu', 'Trung'}\n",
            "2003\n",
            "2004\n",
            "Nhut\n",
            "Phu\n",
            "Trung\n"
          ]
        }
      ]
    },
    {
      "cell_type": "code",
      "source": [
        "dic = {\n",
        "    \"mssv\" : \"110121206\",\n",
        "    \"lop\" : \"DA21TTC\",\n",
        "    \"quequan\" : [\"Cau Ke\", \"Tra Vinh\"]\n",
        "}\n",
        "\n",
        "print(dic)\n",
        "print(dic[\"lop\"])\n",
        "print(dic[\"quequan\"][0])"
      ],
      "metadata": {
        "colab": {
          "base_uri": "https://localhost:8080/"
        },
        "id": "UiWTAs0MG9wU",
        "outputId": "b3062830-4581-4253-f25c-39b2ff6cd785"
      },
      "execution_count": null,
      "outputs": [
        {
          "output_type": "stream",
          "name": "stdout",
          "text": [
            "{'mssv': '110121206', 'lop': 'DA21TTC', 'quequan': ['Cau Ke', 'Tra Vinh']}\n",
            "DA21TTC\n",
            "Cau Ke\n"
          ]
        }
      ]
    },
    {
      "cell_type": "code",
      "source": [
        "import numpy as np\n",
        "\n",
        "a = np.array(42)\n",
        "b = np.array([1, 2, 3, 4, 5])\n",
        "c = np.array([[1, 2, 3], [4,5,6]])\n",
        "d = np.array([[[1,2,3], [4,5,6]], [[1,2,3], [4,5,6]]])\n",
        "\n",
        "print(a)\n",
        "print(b)\n",
        "print(c)\n",
        "print(d)\n",
        "\n",
        "print(a.ndim)\n",
        "print(b.ndim)\n",
        "print(c.ndim)\n",
        "print(d.ndim)\n",
        "\n",
        "print(np.shape(a))\n",
        "print(np.shape(b))\n",
        "print(np.shape(c))\n",
        "print(np.shape(d))"
      ],
      "metadata": {
        "colab": {
          "base_uri": "https://localhost:8080/"
        },
        "id": "wQ5ppaeEH5I8",
        "outputId": "9f337a0c-db3b-4ef5-f290-296684e1f2a2"
      },
      "execution_count": null,
      "outputs": [
        {
          "output_type": "stream",
          "name": "stdout",
          "text": [
            "42\n",
            "[1 2 3 4 5]\n",
            "[[1 2 3]\n",
            " [4 5 6]]\n",
            "[[[1 2 3]\n",
            "  [4 5 6]]\n",
            "\n",
            " [[1 2 3]\n",
            "  [4 5 6]]]\n",
            "0\n",
            "1\n",
            "2\n",
            "3\n",
            "()\n",
            "(5,)\n",
            "(2, 3)\n",
            "(2, 2, 3)\n"
          ]
        }
      ]
    },
    {
      "cell_type": "code",
      "source": [
        "arr = np.array([1, 2, 3, 4])\n",
        "\n",
        "print(arr[0])\n",
        "\n",
        "arr = np.array([[1, 2, 3, 4, 5], [6, 7, 8, 9, 10]])\n",
        "\n",
        "print(\"Phần tử thứ 2 dòng 1: \", arr[0, 1])\n",
        "\n",
        "arr = np.array([[[1, 2, 3], [4, 5, 6]], [[7, 8, 9],[10, 11, 12]]])\n",
        "\n",
        "print(\"Phần tử thứ 3 mảng thứ 2 của mảng đầu tiên: \", arr[0,1,2])"
      ],
      "metadata": {
        "colab": {
          "base_uri": "https://localhost:8080/"
        },
        "id": "qEs5R9OjT_yS",
        "outputId": "7cb941e4-4ac1-4f2b-a1ec-cd405423a367"
      },
      "execution_count": null,
      "outputs": [
        {
          "output_type": "stream",
          "name": "stdout",
          "text": [
            "1\n",
            "Phần tử thứ 2 dòng 1:  2\n",
            "Phần tử thứ 3 mảng thứ 2 của mảng đầu tiên:  6\n"
          ]
        }
      ]
    },
    {
      "cell_type": "code",
      "source": [
        "arr = np.array([1, 2, 3, 4, 5, 6, 7])\n",
        "\n",
        "print(arr[1:5])\n",
        "\n",
        "print(arr[4:])\n",
        "\n",
        "print(arr[:4])\n",
        "\n",
        "print(arr[-3:-1])\n",
        "\n",
        "arr = np.array([[1, 2, 3, 4, 5], [6, 7, 8, 9, 10]])\n",
        "\n",
        "print(arr[1, 1:4])"
      ],
      "metadata": {
        "colab": {
          "base_uri": "https://localhost:8080/"
        },
        "id": "kne06pZWVxWD",
        "outputId": "15ee7972-75a3-4bda-e21d-8a2b8c173a2d"
      },
      "execution_count": null,
      "outputs": [
        {
          "output_type": "stream",
          "name": "stdout",
          "text": [
            "[2 3 4 5]\n",
            "[5 6 7]\n",
            "[1 2 3 4]\n",
            "[5 6]\n",
            "[7 8 9]\n"
          ]
        }
      ]
    },
    {
      "cell_type": "code",
      "source": [
        "arr1 = np.array([1, 2, 3, 4, 5])\n",
        "arr2 = np.array([[1, 2, 3, 4],[5, 6, 7, 8]])\n",
        "arr3 = np.array([[[1, 2, 3],[4, 5, 6]],[[7, 8, 9], [10, 11, 12]]])\n",
        "\n",
        "print(arr1.shape)\n",
        "print(arr2.shape)\n",
        "print(arr3.shape)"
      ],
      "metadata": {
        "colab": {
          "base_uri": "https://localhost:8080/"
        },
        "id": "CcqjV2uXZ5ll",
        "outputId": "9debd416-70b8-458c-af98-be6270571a1c"
      },
      "execution_count": null,
      "outputs": [
        {
          "output_type": "stream",
          "name": "stdout",
          "text": [
            "(5,)\n",
            "(2, 4)\n",
            "(2, 2, 3)\n"
          ]
        }
      ]
    },
    {
      "cell_type": "code",
      "source": [
        "arr = np.array([1 , 2, 3, 4, 5, 6])\n",
        "\n",
        "newarr = arr.reshape(3, 2)\n",
        "\n",
        "print(newarr)\n",
        "\n",
        "arr1 = np.array([1, 2, 3, 4, 5, 6, 7, 8, 9, 10, 11, 12, 13, 14, 15, 16])\n",
        "\n",
        "newarr1 = arr1.reshape(2, 4, 2)\n",
        "\n",
        "print(newarr1)"
      ],
      "metadata": {
        "colab": {
          "base_uri": "https://localhost:8080/"
        },
        "id": "oBNGSOAAamO9",
        "outputId": "a5d50b3d-f32d-46f6-b408-95b80ebafabf"
      },
      "execution_count": null,
      "outputs": [
        {
          "output_type": "stream",
          "name": "stdout",
          "text": [
            "[[1 2]\n",
            " [3 4]\n",
            " [5 6]]\n",
            "[[[ 1  2]\n",
            "  [ 3  4]\n",
            "  [ 5  6]\n",
            "  [ 7  8]]\n",
            "\n",
            " [[ 9 10]\n",
            "  [11 12]\n",
            "  [13 14]\n",
            "  [15 16]]]\n"
          ]
        }
      ]
    },
    {
      "cell_type": "code",
      "source": [
        "arr = np.array([1, 2, 3])\n",
        "\n",
        "for x in arr:\n",
        "  print(x)"
      ],
      "metadata": {
        "colab": {
          "base_uri": "https://localhost:8080/"
        },
        "id": "b_ef1Dl-bdmO",
        "outputId": "48989692-03a2-4a67-ffc9-c81904f11779"
      },
      "execution_count": null,
      "outputs": [
        {
          "output_type": "stream",
          "name": "stdout",
          "text": [
            "1\n",
            "2\n",
            "3\n"
          ]
        }
      ]
    },
    {
      "cell_type": "code",
      "source": [
        "arr = np.array([[1, 2, 3], [4, 5, 6]])\n",
        "\n",
        "for x in arr:\n",
        "  print(x)\n",
        "\n",
        "for x in arr:\n",
        "  for y in x:\n",
        "    print(y)"
      ],
      "metadata": {
        "colab": {
          "base_uri": "https://localhost:8080/"
        },
        "id": "jKI8PewpcZ5-",
        "outputId": "25833a6f-587b-43e9-9fe1-7bf2d4614960"
      },
      "execution_count": null,
      "outputs": [
        {
          "output_type": "stream",
          "name": "stdout",
          "text": [
            "[1 2 3]\n",
            "[4 5 6]\n",
            "1\n",
            "2\n",
            "3\n",
            "4\n",
            "5\n",
            "6\n"
          ]
        }
      ]
    },
    {
      "cell_type": "code",
      "source": [
        "arr = np.array([[[1, 2, 3],[4, 5, 6]],[[7, 8, 9], [10, 11, 12]]])\n",
        "\n",
        "for x in arr:\n",
        "  print(x)\n",
        "\n",
        "for x in arr:\n",
        "  for y in x:\n",
        "    for z in y:\n",
        "      print(z)"
      ],
      "metadata": {
        "colab": {
          "base_uri": "https://localhost:8080/"
        },
        "id": "1x7aKkPHeKl2",
        "outputId": "f7f2ff9b-012a-410a-de5c-e36a9c9b0d78"
      },
      "execution_count": null,
      "outputs": [
        {
          "output_type": "stream",
          "name": "stdout",
          "text": [
            "[[1 2 3]\n",
            " [4 5 6]]\n",
            "[[ 7  8  9]\n",
            " [10 11 12]]\n",
            "1\n",
            "2\n",
            "3\n",
            "4\n",
            "5\n",
            "6\n",
            "7\n",
            "8\n",
            "9\n",
            "10\n",
            "11\n",
            "12\n"
          ]
        }
      ]
    },
    {
      "cell_type": "markdown",
      "source": [
        "##### CỘNG HAI MA TRẬN"
      ],
      "metadata": {
        "id": "gwzdA3L3jkfh"
      }
    },
    {
      "cell_type": "code",
      "source": [
        "arr1 = np.array([1, 2, 3, 4, 5])\n",
        "arr2 = np.array([6, 7, 8, 9, 10])\n",
        "\n",
        "add_arr = np.add(arr1, arr2)\n",
        "\n",
        "print(add_arr)"
      ],
      "metadata": {
        "colab": {
          "base_uri": "https://localhost:8080/"
        },
        "id": "VgfCoy9qj03S",
        "outputId": "8fa71341-13cf-447e-8109-ba7153f66af2"
      },
      "execution_count": null,
      "outputs": [
        {
          "output_type": "stream",
          "name": "stdout",
          "text": [
            "[ 7  9 11 13 15]\n"
          ]
        }
      ]
    },
    {
      "cell_type": "markdown",
      "source": [
        "##### TRỪ HAI MA TRẬN"
      ],
      "metadata": {
        "id": "ZCie8hRzk1g5"
      }
    },
    {
      "cell_type": "code",
      "source": [
        "arr1 = np.array([1, 2, 3, 4, 5])\n",
        "arr2 = np.array([6, 7, 8, 9, 10])\n",
        "\n",
        "sub_arr = np.subtract(arr1, arr2)\n",
        "\n",
        "print(sub_arr)"
      ],
      "metadata": {
        "colab": {
          "base_uri": "https://localhost:8080/"
        },
        "id": "zIwwRSsdk6g5",
        "outputId": "824b6c7d-1d0e-4de2-dc90-95a2c2c56bf1"
      },
      "execution_count": null,
      "outputs": [
        {
          "output_type": "stream",
          "name": "stdout",
          "text": [
            "[-5 -5 -5 -5 -5]\n"
          ]
        }
      ]
    },
    {
      "cell_type": "markdown",
      "source": [
        "##### CHIA HAI MA TRẬN"
      ],
      "metadata": {
        "id": "-WyJlWHBlexR"
      }
    },
    {
      "cell_type": "code",
      "source": [
        "arr1 = np.array([1, 2, 3, 4, 5, 6, 7, 8, 9])\n",
        "\n",
        "newarr = arr1.reshape(3,3)\n",
        "\n",
        "print(newarr)\n",
        "\n",
        "arr2 = newarr * 10\n",
        "\n",
        "div_arr = np.divide(newarr, arr2)\n",
        "\n",
        "print(div_arr)"
      ],
      "metadata": {
        "colab": {
          "base_uri": "https://localhost:8080/"
        },
        "id": "vxead1EeliR6",
        "outputId": "de1c869e-0e6e-457d-91e3-35db4424013a"
      },
      "execution_count": null,
      "outputs": [
        {
          "output_type": "stream",
          "name": "stdout",
          "text": [
            "[[1 2 3]\n",
            " [4 5 6]\n",
            " [7 8 9]]\n",
            "[[0.1 0.1 0.1]\n",
            " [0.1 0.1 0.1]\n",
            " [0.1 0.1 0.1]]\n"
          ]
        }
      ]
    },
    {
      "cell_type": "markdown",
      "source": [
        "#NHÂN HAI MA TRẬN"
      ],
      "metadata": {
        "id": "WFgzn6tkms56"
      }
    }
  ]
}