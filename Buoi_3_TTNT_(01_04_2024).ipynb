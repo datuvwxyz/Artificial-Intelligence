{
  "nbformat": 4,
  "nbformat_minor": 0,
  "metadata": {
    "colab": {
      "provenance": [],
      "authorship_tag": "ABX9TyP4kk3uKh3JkbKtuToCeFiI",
      "include_colab_link": true
    },
    "kernelspec": {
      "name": "python3",
      "display_name": "Python 3"
    },
    "language_info": {
      "name": "python"
    }
  },
  "cells": [
    {
      "cell_type": "markdown",
      "metadata": {
        "id": "view-in-github",
        "colab_type": "text"
      },
      "source": [
        "<a href=\"https://colab.research.google.com/github/datuvwxyz/Artificial-Intelligence/blob/main/Buoi_3_TTNT_(01_04_2024).ipynb\" target=\"_parent\"><img src=\"https://colab.research.google.com/assets/colab-badge.svg\" alt=\"Open In Colab\"/></a>"
      ]
    },
    {
      "cell_type": "markdown",
      "source": [
        "##**LÀM QUEN VỚI THƯ VIỆN PANDAS**"
      ],
      "metadata": {
        "id": "NJNU9JCeYbZ-"
      }
    },
    {
      "cell_type": "code",
      "execution_count": null,
      "metadata": {
        "colab": {
          "base_uri": "https://localhost:8080/"
        },
        "id": "U2MfRXLEXp8Q",
        "outputId": "29f0d278-bd43-4a33-e833-a2569706770f"
      },
      "outputs": [
        {
          "output_type": "stream",
          "name": "stdout",
          "text": [
            "Empty DataFrame\n",
            "Columns: []\n",
            "Index: []\n"
          ]
        }
      ],
      "source": [
        "import pandas as pd\n",
        "\n",
        "df = pd.DataFrame()\n",
        "\n",
        "print(df)"
      ]
    },
    {
      "cell_type": "code",
      "source": [
        "#Tạo list cho DataFrame\n",
        "lst = ['Geeks', 'For', 'Geeks', 'is', 'portal', 'for', 'Geeks']\n",
        "\n",
        "df = pd.DataFrame(lst)\n",
        "\n",
        "print(df)"
      ],
      "metadata": {
        "colab": {
          "base_uri": "https://localhost:8080/"
        },
        "id": "uRoAzNajY-Id",
        "outputId": "da644290-c246-4bde-aaff-2142b6f72db1"
      },
      "execution_count": null,
      "outputs": [
        {
          "output_type": "stream",
          "name": "stdout",
          "text": [
            "        0\n",
            "0   Geeks\n",
            "1     For\n",
            "2   Geeks\n",
            "3      is\n",
            "4  portal\n",
            "5     for\n",
            "6   Geeks\n"
          ]
        }
      ]
    },
    {
      "cell_type": "code",
      "source": [
        "#Tạo dictionary cho DataFrame\n",
        "dict = {'name':[\"aparna\", \"pankaj\", \"sudhir\", \"Geeku\"],\n",
        "\t\t'degree': [\"MBA\", \"BCA\", \"M.Tech\", \"MBA\"],\n",
        "\t\t'score':[90, 40, 80, 98]}\n",
        "\n",
        "df = pd.DataFrame(dict)\n",
        "\n",
        "print(df)"
      ],
      "metadata": {
        "colab": {
          "base_uri": "https://localhost:8080/"
        },
        "id": "ZNfMvRR4ZbR1",
        "outputId": "9ef8ca82-c33c-48bc-9263-d2164824fb64"
      },
      "execution_count": null,
      "outputs": [
        {
          "output_type": "stream",
          "name": "stdout",
          "text": [
            "     name  degree  score\n",
            "0  aparna     MBA     90\n",
            "1  pankaj     BCA     40\n",
            "2  sudhir  M.Tech     80\n",
            "3   Geeku     MBA     98\n"
          ]
        }
      ]
    },
    {
      "cell_type": "code",
      "source": [
        "#Tạo data cho DataFrame\n",
        "data = {'Name':['Jai', 'Princi', 'Gaurav', 'Anuj'],\n",
        "\t\t'Age':[27, 24, 22, 32],\n",
        "\t\t'Address':['Delhi', 'Kanpur', 'Allahabad', 'Kannauj'],\n",
        "\t\t'Qualification':['Msc', 'MA', 'MCA', 'Phd']}\n",
        "df = pd.DataFrame(data)\n",
        "\n",
        "print(df[['Name', 'Qualification']])"
      ],
      "metadata": {
        "colab": {
          "base_uri": "https://localhost:8080/"
        },
        "id": "ep56lntBZxY8",
        "outputId": "8cd9ef54-dd51-44ba-8320-0637190482d6"
      },
      "execution_count": null,
      "outputs": [
        {
          "output_type": "stream",
          "name": "stdout",
          "text": [
            "     Name Qualification\n",
            "0     Jai           Msc\n",
            "1  Princi            MA\n",
            "2  Gaurav           MCA\n",
            "3    Anuj           Phd\n"
          ]
        }
      ]
    },
    {
      "cell_type": "code",
      "source": [
        "data = {'Name': ['Jai', 'Princi', 'Gaurav', 'Anuj'],\n",
        "       'Height': [5.1, 6.2, 5.1, 5.2],\n",
        "       'Qualification': ['Msc', 'MA', 'Msc', 'Msc']}\n",
        "\n",
        "df = pd.DataFrame(data)\n",
        "\n",
        "#Tạo một list với tên biến là address\n",
        "address = ['Delhi', 'Bangalore', 'Chennai', 'Patna']\n",
        "\n",
        "#Thêm một column Address với dữ liệu từ biến address\n",
        "df['Address'] = address\n",
        "\n",
        "print(df)"
      ],
      "metadata": {
        "colab": {
          "base_uri": "https://localhost:8080/"
        },
        "id": "eYVV4ZoCaR9E",
        "outputId": "7f30313e-ca66-49de-8b5a-ccaa8a7f8b89"
      },
      "execution_count": null,
      "outputs": [
        {
          "output_type": "stream",
          "name": "stdout",
          "text": [
            "     Name  Height Qualification    Address\n",
            "0     Jai     5.1           Msc      Delhi\n",
            "1  Princi     6.2            MA  Bangalore\n",
            "2  Gaurav     5.1           Msc    Chennai\n",
            "3    Anuj     5.2           Msc      Patna\n"
          ]
        }
      ]
    },
    {
      "cell_type": "code",
      "source": [
        "data = pd.read_csv(\"https://raw.githubusercontent.com/laxmimerit/All-CSV-ML-Data-Files-Download/master/nba.csv\", index_col = \"Name\")\n",
        "\n",
        "data.drop(['Team', 'Weight'], axis = 1, inplace = True)\n",
        "\n",
        "df = pd.DataFrame(data)\n",
        "\n",
        "print(df)"
      ],
      "metadata": {
        "colab": {
          "base_uri": "https://localhost:8080/"
        },
        "id": "_KEYaA2ebPy0",
        "outputId": "beb23bd7-de8e-4cdc-a60f-4c82b619efe2"
      },
      "execution_count": null,
      "outputs": [
        {
          "output_type": "stream",
          "name": "stdout",
          "text": [
            "                         Team  Number Position   Age Height  Weight  \\\n",
            "Name                                                                  \n",
            "Avery Bradley  Boston Celtics     0.0       PG  25.0    6-2   180.0   \n",
            "Jae Crowder    Boston Celtics    99.0       SF  25.0    6-6   235.0   \n",
            "John Holland   Boston Celtics    30.0       SG  27.0    6-5   205.0   \n",
            "R.J. Hunter    Boston Celtics    28.0       SG  22.0    6-5   185.0   \n",
            "Jonas Jerebko  Boston Celtics     8.0       PF  29.0   6-10   231.0   \n",
            "...                       ...     ...      ...   ...    ...     ...   \n",
            "Shelvin Mack        Utah Jazz     8.0       PG  26.0    6-3   203.0   \n",
            "Raul Neto           Utah Jazz    25.0       PG  24.0    6-1   179.0   \n",
            "Tibor Pleiss        Utah Jazz    21.0        C  26.0    7-3   256.0   \n",
            "Jeff Withey         Utah Jazz    24.0        C  26.0    7-0   231.0   \n",
            "NaN                       NaN     NaN      NaN   NaN    NaN     NaN   \n",
            "\n",
            "                         College     Salary  \n",
            "Name                                         \n",
            "Avery Bradley              Texas  7730337.0  \n",
            "Jae Crowder            Marquette  6796117.0  \n",
            "John Holland   Boston University        NaN  \n",
            "R.J. Hunter        Georgia State  1148640.0  \n",
            "Jonas Jerebko                NaN  5000000.0  \n",
            "...                          ...        ...  \n",
            "Shelvin Mack              Butler  2433333.0  \n",
            "Raul Neto                    NaN   900000.0  \n",
            "Tibor Pleiss                 NaN  2900000.0  \n",
            "Jeff Withey               Kansas   947276.0  \n",
            "NaN                          NaN        NaN  \n",
            "\n",
            "[458 rows x 8 columns]\n"
          ]
        }
      ]
    },
    {
      "cell_type": "markdown",
      "source": [
        "##**THUẬT TOÁN KNN VỚI DATASET**"
      ],
      "metadata": {
        "id": "fID_rHbRii_Y"
      }
    },
    {
      "cell_type": "code",
      "source": [
        "#import các thư viện\n",
        "import pandas as pd\n",
        "import math\n",
        "import statistics\n",
        "\n",
        "#Đọc bộ dữ liệu\n",
        "df = pd.read_csv(\"knn.csv\", index_col = \"ID\")\n",
        "\n",
        "#Lấy 2 cột Height và Weight với tập X\n",
        "X = df[['Height','Weight']]\n",
        "\n",
        "#Lấy cột T-shirt với tập Y\n",
        "Y = df[['TShirtSize']]\n",
        "\n",
        "#Tạo một điểm mới bất kì\n",
        "new_data_points = (161, 60)\n",
        "\n",
        "#Tạo một hàm define với tên khoảng cách để tính dữ liệu mới so với dữ liệu mẫu\n",
        "def count_distance(data_points, new_data_points):\n",
        "  distance = list()\n",
        "  for index, row in data_points.iterrows():\n",
        "    points = (row['Height'], row['Weight'])\n",
        "    dst = math.dist(points, new_data_points)\n",
        "    distance.append(dst)\n",
        "  return distance\n",
        "\n",
        "#Tính khoảng cách và đặt tên cho column\n",
        "count_distance(X, new_data_points)\n",
        "X['Distance'] = count_distance(X, new_data_points)\n",
        "print(X)\n",
        "print(\"============================\")\n",
        "\n",
        "#Thêm cột TShirtSize vào tập X và sort X theo khoảng cách\n",
        "X['TShirtSize'] = df['TShirtSize']\n",
        "X_sort = X.sort_values(by = 'Distance')\n",
        "print(X_sort)\n",
        "print(\"============================\")\n",
        "\n",
        "#Cho K lang gieng = ???\n",
        "K = 5\n",
        "neighbor = X_sort.iloc[0:K]\n",
        "print(neighbor)\n",
        "print(\"============================\")\n",
        "\n",
        "#Duyệt số đông sử dụng thư viện statistics\n",
        "neighbor_label = neighbor['TShirtSize']\n",
        "print(\"Vậy size cần mặc là:\",statistics.mode(neighbor_label))"
      ],
      "metadata": {
        "colab": {
          "base_uri": "https://localhost:8080/"
        },
        "id": "ZFyrvD-Ri3OA",
        "outputId": "4cf3ceae-c5ec-4912-a7dd-0b8aed4a9b23"
      },
      "execution_count": null,
      "outputs": [
        {
          "output_type": "stream",
          "name": "stdout",
          "text": [
            "    Height  Weight   Distance\n",
            "ID                           \n",
            "1      158      58   3.605551\n",
            "2      158      59   3.162278\n",
            "3      158      63   4.242641\n",
            "4      160      59   1.414214\n",
            "5      160      60   1.000000\n",
            "6      163      60   2.000000\n",
            "7      163      61   2.236068\n",
            "8      160      64   4.123106\n",
            "9      163      64   4.472136\n",
            "10     165      61   4.123106\n",
            "11     165      62   4.472136\n",
            "12     165      65   6.403124\n",
            "13     168      62   7.280110\n",
            "14     168      63   7.615773\n",
            "15     168      66   9.219544\n",
            "16     170      63   9.486833\n",
            "17     170      64   9.848858\n",
            "18     170      68  12.041595\n",
            "============================\n",
            "    Height  Weight   Distance TShirtSize\n",
            "ID                                      \n",
            "5      160      60   1.000000          M\n",
            "4      160      59   1.414214          M\n",
            "6      163      60   2.000000          M\n",
            "7      163      61   2.236068          M\n",
            "2      158      59   3.162278          M\n",
            "1      158      58   3.605551          M\n",
            "8      160      64   4.123106          L\n",
            "10     165      61   4.123106          L\n",
            "3      158      63   4.242641          M\n",
            "11     165      62   4.472136          L\n",
            "9      163      64   4.472136          L\n",
            "12     165      65   6.403124          L\n",
            "13     168      62   7.280110          L\n",
            "14     168      63   7.615773          L\n",
            "15     168      66   9.219544          L\n",
            "16     170      63   9.486833          L\n",
            "17     170      64   9.848858          L\n",
            "18     170      68  12.041595          L\n",
            "============================\n",
            "    Height  Weight  Distance TShirtSize\n",
            "ID                                     \n",
            "5      160      60  1.000000          M\n",
            "4      160      59  1.414214          M\n",
            "6      163      60  2.000000          M\n",
            "7      163      61  2.236068          M\n",
            "2      158      59  3.162278          M\n",
            "============================\n",
            "Vậy size cần mặc là: M\n"
          ]
        }
      ]
    }
  ]
}